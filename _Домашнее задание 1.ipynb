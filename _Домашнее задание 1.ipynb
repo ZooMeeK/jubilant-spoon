{
 "cells": [
  {
   "cell_type": "markdown",
   "metadata": {},
   "source": [
    "# Домашнее задание к блоку 1 "
   ]
  },
  {
   "cell_type": "markdown",
   "metadata": {},
   "source": [
    "### Задания, которые мы не доделали на занятии"
   ]
  },
  {
   "cell_type": "markdown",
   "metadata": {},
   "source": [
    "Дано три числа, подсчитать среднее арифметическое (дробное и целочисленное)"
   ]
  },
  {
   "cell_type": "code",
   "execution_count": 1,
   "metadata": {},
   "outputs": [
    {
     "name": "stdout",
     "output_type": "stream",
     "text": [
      "12.733333333333334\n"
     ]
    }
   ],
   "source": [
    "b = [1.4,9.6,19.1]\n",
    "\n",
    "for i in b:\n",
    "    i += i\n",
    "    \n",
    "avr = i/len(b)\n",
    "print(avr)\n",
    "\n"
   ]
  },
  {
   "cell_type": "markdown",
   "metadata": {},
   "source": [
    "Дано два числа, проверить, делится ли одно на другое без остатку, напечатать остаток, если деление не целое"
   ]
  },
  {
   "cell_type": "code",
   "execution_count": 2,
   "metadata": {},
   "outputs": [
    {
     "name": "stdout",
     "output_type": "stream",
     "text": [
      "3\n"
     ]
    }
   ],
   "source": [
    "a = 10\n",
    "b = 7\n",
    "x = a%b\n",
    "if x == 0:\n",
    "    print('Деление без остатка')\n",
    "else:\n",
    "    print(x)"
   ]
  },
  {
   "cell_type": "markdown",
   "metadata": {},
   "source": [
    "Дано два числа, напечатать их в порядке возрастания"
   ]
  },
  {
   "cell_type": "code",
   "execution_count": 3,
   "metadata": {},
   "outputs": [
    {
     "name": "stdout",
     "output_type": "stream",
     "text": [
      "10 15\n"
     ]
    }
   ],
   "source": [
    "a = 15\n",
    "b = 10\n",
    "\n",
    "if a > b:\n",
    "    print(b, a)\n",
    "else:\n",
    "    print(a, b)\n"
   ]
  },
  {
   "cell_type": "markdown",
   "metadata": {},
   "source": [
    "Дана строка, проверить, что в ней совпадают первый и последний символ"
   ]
  },
  {
   "cell_type": "code",
   "execution_count": 4,
   "metadata": {},
   "outputs": [
    {
     "name": "stdout",
     "output_type": "stream",
     "text": [
      "Первый(\"s\") и последний(\"e\") символы не совпадают\n"
     ]
    }
   ],
   "source": [
    "a = 'sfafdsfqweqe'\n",
    "\n",
    "b = len(a) - 1\n",
    "\n",
    "if a[0] == a[b]:\n",
    "    print('Первый(\"{}\") и последний(\"{}\") символы совпадают'.format(a[0], a[b]))\n",
    "else:\n",
    "    print('Первый(\"{}\") и последний(\"{}\") символы не совпадают'.format(a[0], a[b]))"
   ]
  },
  {
   "cell_type": "markdown",
   "metadata": {},
   "source": [
    "Дана строка и буква, подсчитать количество вхождений буквы в строку (количество символов в строке)"
   ]
  },
  {
   "cell_type": "code",
   "execution_count": 5,
   "metadata": {},
   "outputs": [
    {
     "name": "stdout",
     "output_type": "stream",
     "text": [
      "5\n"
     ]
    }
   ],
   "source": [
    "a = 'ababababab'\n",
    "b = 'a'\n",
    "\n",
    "count = 0\n",
    "\n",
    "for i in a:\n",
    "    if i == b:\n",
    "        count += 1\n",
    "print(count)"
   ]
  },
  {
   "cell_type": "markdown",
   "metadata": {},
   "source": [
    "Дана строка, проверить, что она является палиндромом"
   ]
  },
  {
   "cell_type": "code",
   "execution_count": 6,
   "metadata": {},
   "outputs": [
    {
     "name": "stdout",
     "output_type": "stream",
     "text": [
      "Эта строка полиндром\n"
     ]
    }
   ],
   "source": [
    "a = 'abcddcba'\n",
    "\n",
    "pol = ''\n",
    "\n",
    "for i in a:\n",
    "    pol = i + pol\n",
    "    \n",
    "if pol == a:\n",
    "    print('Эта строка полиндром')\n",
    "else:\n",
    "    print('Эта строка НЕ полиндром')"
   ]
  },
  {
   "cell_type": "markdown",
   "metadata": {},
   "source": [
    "Напечатать все числа от A до B, которые делятся на число C без остатка"
   ]
  },
  {
   "cell_type": "code",
   "execution_count": 7,
   "metadata": {},
   "outputs": [
    {
     "name": "stdout",
     "output_type": "stream",
     "text": [
      "3\n",
      "6\n",
      "9\n"
     ]
    }
   ],
   "source": [
    "a = 2\n",
    "b = 10\n",
    "c = 3\n",
    "if a > b:\n",
    "    print('Неверные данные')\n",
    "    \n",
    "for i in range(a,b+1):\n",
    "    if i%c == 0:\n",
    "        print(i)"
   ]
  },
  {
   "cell_type": "markdown",
   "metadata": {},
   "source": [
    "Напечатать все делители числа A"
   ]
  },
  {
   "cell_type": "code",
   "execution_count": 8,
   "metadata": {},
   "outputs": [
    {
     "name": "stdout",
     "output_type": "stream",
     "text": [
      "1\n",
      "127\n"
     ]
    }
   ],
   "source": [
    "a = 127\n",
    "\n",
    "for i in range(1,a+1):\n",
    "    if a%i == 0:\n",
    "        print(i)\n",
    "    "
   ]
  },
  {
   "cell_type": "code",
   "execution_count": 9,
   "metadata": {},
   "outputs": [],
   "source": [
    "a = -10"
   ]
  },
  {
   "cell_type": "markdown",
   "metadata": {},
   "source": [
    "Проверить, что число является простым"
   ]
  },
  {
   "cell_type": "code",
   "execution_count": 10,
   "metadata": {},
   "outputs": [
    {
     "name": "stdout",
     "output_type": "stream",
     "text": [
      "число простое\n"
     ]
    }
   ],
   "source": [
    "a = 127\n",
    "\n",
    "count = 0\n",
    "\n",
    "for i in range(1,a+1):\n",
    "    if a%i == 0:\n",
    "        count += 1\n",
    "\n",
    "if count == 2:\n",
    "    print('число простое')\n",
    "else:\n",
    "    print('число НЕ простое')\n"
   ]
  },
  {
   "cell_type": "markdown",
   "metadata": {},
   "source": [
    "### Домашнее задание, рекомендуемые к выполнению"
   ]
  },
  {
   "cell_type": "markdown",
   "metadata": {},
   "source": [
    "- Есть список \n",
    "\n",
    "a = [1, 1, 2, 3, 5, 8, 13, 21, 34, 55, 89]. \n",
    "\n",
    "Выведите все элементы, которые меньше 5."
   ]
  },
  {
   "cell_type": "code",
   "execution_count": 11,
   "metadata": {},
   "outputs": [
    {
     "name": "stdout",
     "output_type": "stream",
     "text": [
      "1\n",
      "1\n",
      "2\n",
      "3\n"
     ]
    }
   ],
   "source": [
    "a = [1, 1, 2, 3, 5, 8, 13, 21, 34, 55, 89]\n",
    "\n",
    "for i in a:\n",
    "    if i < 5:\n",
    "        print(i)"
   ]
  },
  {
   "cell_type": "markdown",
   "metadata": {},
   "source": [
    "- Выведите первый и последний элемент списка."
   ]
  },
  {
   "cell_type": "code",
   "execution_count": 12,
   "metadata": {},
   "outputs": [],
   "source": [
    "a = [1, 1, 2, 3, 5, 8, 13, 21, 34, 55, 89]"
   ]
  },
  {
   "cell_type": "code",
   "execution_count": 13,
   "metadata": {},
   "outputs": [
    {
     "name": "stdout",
     "output_type": "stream",
     "text": [
      "1 89\n"
     ]
    }
   ],
   "source": [
    "print(a[0], a[len(a)-1])"
   ]
  },
  {
   "cell_type": "markdown",
   "metadata": {},
   "source": [
    "- Посчитайте, сколько раз символ \"f\" встречается в строке."
   ]
  },
  {
   "cell_type": "code",
   "execution_count": 14,
   "metadata": {},
   "outputs": [
    {
     "name": "stdout",
     "output_type": "stream",
     "text": [
      "13\n"
     ]
    }
   ],
   "source": [
    "symbol = \"f\"\n",
    "string = \"qwertyuiop [asdfghj kl;zxcvbnапролджm,./qw  ertyuiop[fvgbhnjk фцвффl.;lkjhgfcvgbhnjmk\\\n",
    ",l.;dfghjkl;ыыakuwil dwjkla dnskfrfnnjklda;dojw  nakjkldwkaonwdlk;w'dla,dposуаыаdkg\\\n",
    "shkjflkjlsыдалджужвlsfikl; fs.f;nskl;lm,.x/ /V'pk  [msoprg;t,lmftok p'ltf;f otgptgq;ыдв\"\n",
    "\n",
    "count = 0\n",
    "\n",
    "for i in string:\n",
    "    if i == symbol:\n",
    "        count += 1\n",
    "print(count)\n"
   ]
  },
  {
   "cell_type": "markdown",
   "metadata": {},
   "source": [
    "### Задачки, где нужно подумать :)"
   ]
  },
  {
   "cell_type": "markdown",
   "metadata": {},
   "source": [
    "- Сделайте так, чтобы число секунд отображалось в виде дни:часы:минуты:секунды."
   ]
  },
  {
   "cell_type": "code",
   "execution_count": 15,
   "metadata": {},
   "outputs": [
    {
     "name": "stdout",
     "output_type": "stream",
     "text": [
      "4:5:56:40\n"
     ]
    }
   ],
   "source": [
    "seconds = 367000\n",
    "\n",
    "sec = seconds%60\n",
    "\n",
    "b = seconds//60\n",
    "minut = b%60\n",
    "\n",
    "c = b//60\n",
    "hours = c%24\n",
    "\n",
    "days = c//24\n",
    "\n",
    "\n",
    "print('{}:{}:{}:{}'.format(days, hours, minut, sec))"
   ]
  },
  {
   "cell_type": "markdown",
   "metadata": {},
   "source": [
    "- Напишите программу, которая выводит чётные числа из заданного списка и останавливается, если встречает число 237."
   ]
  },
  {
   "cell_type": "code",
   "execution_count": 16,
   "metadata": {},
   "outputs": [
    {
     "name": "stdout",
     "output_type": "stream",
     "text": [
      "298\n",
      "300\n"
     ]
    }
   ],
   "source": [
    "a = 298\n",
    "b = 300\n",
    "if a > b:\n",
    "    print('Неверные данные')\n",
    "    \n",
    "for i in range(a,b+1):\n",
    "    if i%2 == 0:\n",
    "        print(i)\n",
    "    elif i == 237:\n",
    "        break"
   ]
  },
  {
   "cell_type": "markdown",
   "metadata": {},
   "source": [
    "- Нужно проверить, все ли числа в последовательности уникальны."
   ]
  },
  {
   "cell_type": "code",
   "execution_count": 17,
   "metadata": {},
   "outputs": [
    {
     "name": "stdout",
     "output_type": "stream",
     "text": [
      "НЕ все числа уникальны\n"
     ]
    }
   ],
   "source": [
    "a = [1, 1, 2, 3, 5, 8, 13, 21, 34, 55, 89]\n",
    "b = set(a)\n",
    "\n",
    "if len(a) == len(b):\n",
    "    print('Все числа уникальны')\n",
    "else:\n",
    "    print('НЕ все числа уникальны')"
   ]
  },
  {
   "cell_type": "markdown",
   "metadata": {},
   "source": [
    "- При заданном целом числе n посчитайте n + nn + nnn."
   ]
  },
  {
   "cell_type": "code",
   "execution_count": 18,
   "metadata": {},
   "outputs": [],
   "source": [
    "n = 5\n",
    "nn = str(n)*2\n",
    "nnn = str(n)*3\n",
    "\n",
    "n = n + int(nn) + int(nnn)"
   ]
  },
  {
   "cell_type": "markdown",
   "metadata": {},
   "source": [
    "Задача 1. Простейшие арифметические операции Написать функцию arithmetic, принимающую 3 аргумента: первые 2 - числа, третий - операция, которая должна быть произведена над ними. Если третий аргумент +, сложить их; если —, то вычесть; * — умножить; / — разделить (первое на второе). В остальных случаях вернуть строку \"Неизвестная операция\"."
   ]
  },
  {
   "cell_type": "code",
   "execution_count": 19,
   "metadata": {},
   "outputs": [],
   "source": [
    "def calc(a, b, c):\n",
    "    if c == '+':\n",
    "        return (a + b)\n",
    "    elif c == '-':\n",
    "        return (a - b)\n",
    "    elif c == '*':\n",
    "        return (a * b)\n",
    "    elif c == '/':\n",
    "        return (a / b)\n",
    "    else:\n",
    "        print(\"Неизвестная операция\")"
   ]
  },
  {
   "cell_type": "code",
   "execution_count": 20,
   "metadata": {},
   "outputs": [
    {
     "data": {
      "text/plain": [
       "15"
      ]
     },
     "execution_count": 20,
     "metadata": {},
     "output_type": "execute_result"
    }
   ],
   "source": [
    "calc(3,5,'*')"
   ]
  },
  {
   "cell_type": "markdown",
   "metadata": {},
   "source": [
    "Задача 2. Високосный год Написать функцию is_year_leap, принимающую 1 аргумент — год, и возвращающую True, если год високосный, и False иначе."
   ]
  },
  {
   "cell_type": "code",
   "execution_count": 21,
   "metadata": {},
   "outputs": [],
   "source": [
    "def  is_year_leap(a):\n",
    "    if a%400 == 0:\n",
    "        return(print('год високосный'))\n",
    "    elif a%100 == 0:\n",
    "        return(print('год високосный'))\n",
    "    elif a%4 == 0:\n",
    "        return(print('год високосный'))\n",
    "    else:\n",
    "        return(print('год НЕ високосный'))\n",
    "        "
   ]
  },
  {
   "cell_type": "code",
   "execution_count": 22,
   "metadata": {},
   "outputs": [
    {
     "name": "stdout",
     "output_type": "stream",
     "text": [
      "год високосный\n"
     ]
    }
   ],
   "source": [
    "is_year_leap(1900)"
   ]
  },
  {
   "cell_type": "markdown",
   "metadata": {},
   "source": [
    "Задача 3. Квадрат Написать функцию square, принимающую 1 аргумент — сторону квадрата, и возвращающую 3 значения (с помощью кортежа): периметр квадрата, площадь квадрата и диагональ квадрата."
   ]
  },
  {
   "cell_type": "code",
   "execution_count": 23,
   "metadata": {},
   "outputs": [],
   "source": [
    "def square(a):\n",
    "    perimeterSquare = a * 4\n",
    "    areaSquare = a * a\n",
    "    diagonalSquare = a * 2**(1/2)\n",
    "    return((perimeterSquare, areaSquare, diagonalSquare))"
   ]
  },
  {
   "cell_type": "code",
   "execution_count": 24,
   "metadata": {},
   "outputs": [
    {
     "data": {
      "text/plain": [
       "(64, 256, 22.627416997969522)"
      ]
     },
     "execution_count": 24,
     "metadata": {},
     "output_type": "execute_result"
    }
   ],
   "source": [
    "square(16)"
   ]
  },
  {
   "cell_type": "markdown",
   "metadata": {},
   "source": [
    "Задача 4. Времена года Написать функцию season, принимающую 1 аргумент — номер месяца (от 1 до 12), и возвращающую время года, которому этот месяц принадлежит (зима, весна, лето или осень)."
   ]
  },
  {
   "cell_type": "code",
   "execution_count": 25,
   "metadata": {},
   "outputs": [],
   "source": [
    "def season(a):\n",
    "    if a == 12 or a == 1 or a == 2:\n",
    "        return('Winter')\n",
    "    elif a == 3 or a == 4 or a == 5:\n",
    "        return('Spring')\n",
    "    elif a == 6 or a == 7 or a == 8:\n",
    "        return('Summer')\n",
    "    elif a == 9 or a == 10 or a == 11:\n",
    "        return('Autumn')"
   ]
  },
  {
   "cell_type": "code",
   "execution_count": 26,
   "metadata": {},
   "outputs": [
    {
     "data": {
      "text/plain": [
       "'Autumn'"
      ]
     },
     "execution_count": 26,
     "metadata": {},
     "output_type": "execute_result"
    }
   ],
   "source": [
    "season(9)"
   ]
  },
  {
   "cell_type": "markdown",
   "metadata": {},
   "source": [
    "Задача 5. Банковский вклад Пользователь делает вклад в размере a рублей сроком на years лет под 10% годовых (каждый год размер его вклада увеличивается на 10%. Эти деньги прибавляются к сумме вклада, и на них в следующем году тоже будут проценты). Написать функцию bank, принимающая аргументы a и years, и возвращающую сумму, которая будет на счету пользователя."
   ]
  },
  {
   "cell_type": "code",
   "execution_count": 27,
   "metadata": {},
   "outputs": [],
   "source": [
    "def bank(a, years):\n",
    "    for i in range(years):\n",
    "        a = a + a * 0.1 + (a + a * 0.1) * 0.1\n",
    "    return(a)"
   ]
  },
  {
   "cell_type": "code",
   "execution_count": 28,
   "metadata": {},
   "outputs": [
    {
     "data": {
      "text/plain": [
       "204840021.4585467"
      ]
     },
     "execution_count": 28,
     "metadata": {},
     "output_type": "execute_result"
    }
   ],
   "source": [
    "bank(100000, 40)"
   ]
  },
  {
   "cell_type": "markdown",
   "metadata": {},
   "source": [
    "Задача 6. Простые числа Написать функцию is_prime, принимающую 1 аргумент — число от 0 до 1000, и возвращающую True, если оно простое, и False - иначе."
   ]
  },
  {
   "cell_type": "code",
   "execution_count": 29,
   "metadata": {},
   "outputs": [],
   "source": [
    "def is_prime(a):   \n",
    "    if a > 0 and a < 1000:\n",
    "        count = 0\n",
    "        for i in range(1,a+1):  \n",
    "            if a%i == 0:        \n",
    "                count += 1\n",
    "            \n",
    "        if count == 2:\n",
    "            print(True)\n",
    "        else:\n",
    "            print(False)\n",
    "    else:\n",
    "        print(False)"
   ]
  },
  {
   "cell_type": "code",
   "execution_count": 30,
   "metadata": {},
   "outputs": [
    {
     "name": "stdout",
     "output_type": "stream",
     "text": [
      "True\n"
     ]
    }
   ],
   "source": [
    "is_prime(17)"
   ]
  },
  {
   "cell_type": "markdown",
   "metadata": {},
   "source": [
    "Задача 7. Правильная дата Написать функцию date, принимающую 3 аргумента — день, месяц и год. Вернуть True, если такая дата есть в нашем календаре, и иначе False."
   ]
  },
  {
   "cell_type": "code",
   "execution_count": 33,
   "metadata": {},
   "outputs": [],
   "source": [
    "def date(day, month, year):\n",
    "    if day < 0 or month < 0 or year < 0:\n",
    "        return(False)\n",
    "    else:\n",
    "        monthDay = [31, 28, 31, 30, 31, 30, 31, 31, 30, 31, 30, 31]\n",
    "        \n",
    "        if year%400 == 0:\n",
    "            monthDay[1] = 29\n",
    "        elif year%100 == 0:\n",
    "            monthDay[1] = 29\n",
    "        elif year%4 == 0:\n",
    "            monthDay[1] = 29\n",
    "        \n",
    "        if day <= monthDay[month-1]:\n",
    "            if month <= 12:\n",
    "                return(True)\n",
    "        else:\n",
    "            return(False)\n",
    "            "
   ]
  },
  {
   "cell_type": "code",
   "execution_count": 41,
   "metadata": {},
   "outputs": [
    {
     "data": {
      "text/plain": [
       "False"
      ]
     },
     "execution_count": 41,
     "metadata": {},
     "output_type": "execute_result"
    }
   ],
   "source": [
    "date(29,2,2001)"
   ]
  },
  {
   "cell_type": "markdown",
   "metadata": {},
   "source": [
    "Задача 8. XOR-шифрование Написать функцию XOR_cipher, принимающая 2 аргумента: строку, которую нужно зашифровать, и ключ шифрования, которая возвращает строку, зашифрованную путем применения функции XOR (^) над символами строки с ключом. Написать также функцию XOR_uncipher, которая по зашифрованной строке и ключу восстанавливает исходную строку."
   ]
  },
  {
   "cell_type": "code",
   "execution_count": null,
   "metadata": {},
   "outputs": [],
   "source": []
  },
  {
   "cell_type": "code",
   "execution_count": null,
   "metadata": {},
   "outputs": [],
   "source": []
  },
  {
   "cell_type": "code",
   "execution_count": null,
   "metadata": {},
   "outputs": [],
   "source": []
  },
  {
   "cell_type": "code",
   "execution_count": null,
   "metadata": {},
   "outputs": [],
   "source": []
  }
 ],
 "metadata": {
  "kernelspec": {
   "display_name": "Python 3",
   "language": "python",
   "name": "python3"
  },
  "language_info": {
   "codemirror_mode": {
    "name": "ipython",
    "version": 3
   },
   "file_extension": ".py",
   "mimetype": "text/x-python",
   "name": "python",
   "nbconvert_exporter": "python",
   "pygments_lexer": "ipython3",
   "version": "3.7.0"
  }
 },
 "nbformat": 4,
 "nbformat_minor": 5
}
